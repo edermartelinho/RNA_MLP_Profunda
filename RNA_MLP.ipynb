{
  "nbformat": 4,
  "nbformat_minor": 0,
  "metadata": {
    "colab": {
      "provenance": [],
      "include_colab_link": true
    },
    "kernelspec": {
      "name": "python3",
      "display_name": "Python 3"
    },
    "language_info": {
      "name": "python"
    }
  },
  "cells": [
    {
      "cell_type": "markdown",
      "metadata": {
        "id": "view-in-github",
        "colab_type": "text"
      },
      "source": [
        "<a href=\"https://colab.research.google.com/github/edermartelinho/RNA_MLP_Profunda/blob/main/RNA_MLP.ipynb\" target=\"_parent\"><img src=\"https://colab.research.google.com/assets/colab-badge.svg\" alt=\"Open In Colab\"/></a>"
      ]
    },
    {
      "cell_type": "markdown",
      "source": [
        "# **Aprendizado Profundo\n",
        "#Tema: Construindo uma RNA MLP profunda.\n",
        "## Objetivos - construir todas as funções para uma RNA profunda do tipo MLP.\n",
        "\n",
        "* Inicializar parâmetros de uma rede de duas camadas e para uma rede de $L$ camadas;\n",
        "* Implementar o módulo da propagação *forward* (parte linear e ativação não linear);\n",
        "* Calcular a perda;\n",
        "* Implementar o módulo da propagação *Backward* (parte linear e ativação);\n",
        "* Atualização dos parâmetros.\n",
        "\n",
        "\n",
        "\n",
        "\n",
        "\n",
        "\n",
        "\n",
        "\n",
        "\n",
        "\n"
      ],
      "metadata": {
        "id": "54iArSqzQQx5"
      }
    },
    {
      "cell_type": "markdown",
      "source": [
        "### Importando bibliotecas"
      ],
      "metadata": {
        "id": "oqYHkv-MP5oB"
      }
    },
    {
      "cell_type": "code",
      "execution_count": null,
      "metadata": {
        "id": "a6rFWJ5tP8Ib",
        "collapsed": true
      },
      "outputs": [],
      "source": [
        "import numpy as np\n",
        "import h5py\n",
        "import matplotlib.pyplot as plt\n",
        "\n",
        "%matplotlib inline\n",
        "plt.rcParams['figure.figsize'] = (5.0, 4.0) # set default size of plots\n",
        "plt.rcParams['image.interpolation'] = 'nearest'\n",
        "plt.rcParams['image.cmap'] = 'gray'\n",
        "\n",
        "%load_ext autoreload\n",
        "%autoreload 2\n",
        "np.random.seed(1)"
      ]
    },
    {
      "cell_type": "markdown",
      "source": [
        "### Definindo algumas funções úteis"
      ],
      "metadata": {
        "id": "J7OGZy57dd1q"
      }
    },
    {
      "cell_type": "code",
      "source": [
        "import numpy as np\n",
        "\n",
        "def sigmoid(Z):\n",
        "    \"\"\"\n",
        "    Implements the sigmoid activation in numpy\n",
        "\n",
        "    Arguments:\n",
        "    Z -- numpy array of any shape\n",
        "\n",
        "    Returns:\n",
        "    A -- output of sigmoid(z), same shape as Z\n",
        "    cache -- returns Z as well, useful during backpropagation\n",
        "    \"\"\"\n",
        "\n",
        "    A = 1/(1+np.exp(-Z))\n",
        "    cache = Z\n",
        "\n",
        "    return A, cache\n",
        "\n",
        "def relu(Z):\n",
        "    \"\"\"\n",
        "    Implement the RELU function.\n",
        "\n",
        "    Arguments:\n",
        "    Z -- Output of the linear layer, of any shape\n",
        "\n",
        "    Returns:\n",
        "    A -- Post-activation parameter, of the same shape as Z\n",
        "    cache -- a python dictionary containing \"A\" ; stored for computing the backward pass efficiently\n",
        "    \"\"\"\n",
        "\n",
        "    A = np.maximum(0,Z)\n",
        "\n",
        "    assert(A.shape == Z.shape)\n",
        "\n",
        "    cache = Z\n",
        "    return A, cache\n",
        "\n",
        "\n",
        "def relu_backward(dA, cache):\n",
        "    \"\"\"\n",
        "    Implement the backward propagation for a single RELU unit.\n",
        "\n",
        "    Arguments:\n",
        "    dA -- post-activation gradient, of any shape\n",
        "    cache -- 'Z' where we store for computing backward propagation efficiently\n",
        "\n",
        "    Returns:\n",
        "    dZ -- Gradient of the cost with respect to Z\n",
        "    \"\"\"\n",
        "\n",
        "    Z = cache\n",
        "    dZ = np.array(dA, copy=True) # just converting dz to a correct object.\n",
        "\n",
        "    # When z <= 0, you should set dz to 0 as well.\n",
        "    dZ[Z <= 0] = 0\n",
        "\n",
        "    assert (dZ.shape == Z.shape)\n",
        "\n",
        "    return dZ\n",
        "\n",
        "def sigmoid_backward(dA, cache):\n",
        "    \"\"\"\n",
        "    Implement the backward propagation for a single SIGMOID unit.\n",
        "\n",
        "    Arguments:\n",
        "    dA -- post-activation gradient, of any shape\n",
        "    cache -- 'Z' where we store for computing backward propagation efficiently\n",
        "\n",
        "    Returns:\n",
        "    dZ -- Gradient of the cost with respect to Z\n",
        "    \"\"\"\n",
        "\n",
        "    Z = cache\n",
        "\n",
        "    s = 1/(1+np.exp(-Z))\n",
        "    dZ = dA * s * (1-s)\n",
        "\n",
        "    assert (dZ.shape == Z.shape)\n",
        "\n",
        "    return dZ"
      ],
      "metadata": {
        "id": "DtRDB3KqenPv"
      },
      "execution_count": null,
      "outputs": []
    },
    {
      "cell_type": "markdown",
      "source": [
        "### Definindo outras funções para testar a integridade das implementações"
      ],
      "metadata": {
        "id": "uTr0QdE2eP-Q"
      }
    },
    {
      "cell_type": "code",
      "source": [
        "import numpy as np\n",
        "\n",
        "def linear_forward_test_case():\n",
        "    np.random.seed(1)\n",
        "    \"\"\"\n",
        "    X = np.array([[-1.02387576, 1.12397796],\n",
        " [-1.62328545, 0.64667545],\n",
        " [-1.74314104, -0.59664964]])\n",
        "    W = np.array([[ 0.74505627, 1.97611078, -1.24412333]])\n",
        "    b = np.array([[1]])\n",
        "    \"\"\"\n",
        "    A = np.random.randn(3,2)\n",
        "    W = np.random.randn(1,3)\n",
        "    b = np.random.randn(1,1)\n",
        "\n",
        "    return A, W, b\n",
        "\n",
        "def linear_activation_forward_test_case():\n",
        "    \"\"\"\n",
        "    X = np.array([[-1.02387576, 1.12397796],\n",
        " [-1.62328545, 0.64667545],\n",
        " [-1.74314104, -0.59664964]])\n",
        "    W = np.array([[ 0.74505627, 1.97611078, -1.24412333]])\n",
        "    b = 5\n",
        "    \"\"\"\n",
        "    np.random.seed(2)\n",
        "    A_prev = np.random.randn(3,2)\n",
        "    W = np.random.randn(1,3)\n",
        "    b = np.random.randn(1,1)\n",
        "    return A_prev, W, b\n",
        "\n",
        "def L_model_forward_test_case():\n",
        "    \"\"\"\n",
        "    X = np.array([[-1.02387576, 1.12397796],\n",
        " [-1.62328545, 0.64667545],\n",
        " [-1.74314104, -0.59664964]])\n",
        "    parameters = {'W1': np.array([[ 1.62434536, -0.61175641, -0.52817175],\n",
        "        [-1.07296862,  0.86540763, -2.3015387 ]]),\n",
        " 'W2': np.array([[ 1.74481176, -0.7612069 ]]),\n",
        " 'b1': np.array([[ 0.],\n",
        "        [ 0.]]),\n",
        " 'b2': np.array([[ 0.]])}\n",
        "    \"\"\"\n",
        "    np.random.seed(1)\n",
        "    X = np.random.randn(4,2)\n",
        "    W1 = np.random.randn(3,4)\n",
        "    b1 = np.random.randn(3,1)\n",
        "    W2 = np.random.randn(1,3)\n",
        "    b2 = np.random.randn(1,1)\n",
        "    parameters = {\"W1\": W1,\n",
        "                  \"b1\": b1,\n",
        "                  \"W2\": W2,\n",
        "                  \"b2\": b2}\n",
        "\n",
        "    return X, parameters\n",
        "\n",
        "def compute_cost_test_case():\n",
        "    Y = np.asarray([[1, 1, 0]])\n",
        "    aL = np.array([[.8,.9,0.4]])\n",
        "\n",
        "    return Y, aL\n",
        "\n",
        "def linear_backward_test_case():\n",
        "    \"\"\"\n",
        "    z, linear_cache = (np.array([[-0.8019545 ,  3.85763489]]), (np.array([[-1.02387576,  1.12397796],\n",
        "       [-1.62328545,  0.64667545],\n",
        "       [-1.74314104, -0.59664964]]), np.array([[ 0.74505627,  1.97611078, -1.24412333]]), np.array([[1]]))\n",
        "    \"\"\"\n",
        "    np.random.seed(1)\n",
        "    dZ = np.random.randn(3,4)\n",
        "    A = np.random.randn(5,4)\n",
        "    W = np.random.randn(3,5)\n",
        "    b = np.random.randn(3,1)\n",
        "    linear_cache = (A, W, b)\n",
        "    return dZ, linear_cache\n",
        "\n",
        "def linear_activation_backward_test_case():\n",
        "    \"\"\"\n",
        "    aL, linear_activation_cache = (np.array([[ 3.1980455 ,  7.85763489]]), ((np.array([[-1.02387576,  1.12397796], [-1.62328545,  0.64667545], [-1.74314104, -0.59664964]]), np.array([[ 0.74505627,  1.97611078, -1.24412333]]), 5), np.array([[ 3.1980455 ,  7.85763489]])))\n",
        "    \"\"\"\n",
        "    np.random.seed(2)\n",
        "    dA = np.random.randn(1,2)\n",
        "    A = np.random.randn(3,2)\n",
        "    W = np.random.randn(1,3)\n",
        "    b = np.random.randn(1,1)\n",
        "    Z = np.random.randn(1,2)\n",
        "    linear_cache = (A, W, b)\n",
        "    activation_cache = Z\n",
        "    linear_activation_cache = (linear_cache, activation_cache)\n",
        "\n",
        "    return dA, linear_activation_cache\n",
        "\n",
        "def L_model_backward_test_case():\n",
        "    \"\"\"\n",
        "    X = np.random.rand(3,2)\n",
        "    Y = np.array([[1, 1]])\n",
        "    parameters = {'W1': np.array([[ 1.78862847,  0.43650985,  0.09649747]]), 'b1': np.array([[ 0.]])}\n",
        "\n",
        "    aL, caches = (np.array([[ 0.60298372,  0.87182628]]), [((np.array([[ 0.20445225,  0.87811744],\n",
        "           [ 0.02738759,  0.67046751],\n",
        "           [ 0.4173048 ,  0.55868983]]),\n",
        "    np.array([[ 1.78862847,  0.43650985,  0.09649747]]),\n",
        "    np.array([[ 0.]])),\n",
        "   np.array([[ 0.41791293,  1.91720367]]))])\n",
        "   \"\"\"\n",
        "    np.random.seed(3)\n",
        "    AL = np.random.randn(1, 2)\n",
        "    Y = np.array([[1, 0]])\n",
        "\n",
        "    A1 = np.random.randn(4,2)\n",
        "    W1 = np.random.randn(3,4)\n",
        "    b1 = np.random.randn(3,1)\n",
        "    Z1 = np.random.randn(3,2)\n",
        "    linear_cache_activation_1 = ((A1, W1, b1), Z1)\n",
        "\n",
        "    A2 = np.random.randn(3,2)\n",
        "    W2 = np.random.randn(1,3)\n",
        "    b2 = np.random.randn(1,1)\n",
        "    Z2 = np.random.randn(1,2)\n",
        "    linear_cache_activation_2 = ((A2, W2, b2), Z2)\n",
        "\n",
        "    caches = (linear_cache_activation_1, linear_cache_activation_2)\n",
        "\n",
        "    return AL, Y, caches\n",
        "\n",
        "def update_parameters_test_case():\n",
        "    \"\"\"\n",
        "    parameters = {'W1': np.array([[ 1.78862847,  0.43650985,  0.09649747],\n",
        "        [-1.8634927 , -0.2773882 , -0.35475898],\n",
        "        [-0.08274148, -0.62700068, -0.04381817],\n",
        "        [-0.47721803, -1.31386475,  0.88462238]]),\n",
        " 'W2': np.array([[ 0.88131804,  1.70957306,  0.05003364, -0.40467741],\n",
        "        [-0.54535995, -1.54647732,  0.98236743, -1.10106763],\n",
        "        [-1.18504653, -0.2056499 ,  1.48614836,  0.23671627]]),\n",
        " 'W3': np.array([[-1.02378514, -0.7129932 ,  0.62524497],\n",
        "        [-0.16051336, -0.76883635, -0.23003072]]),\n",
        " 'b1': np.array([[ 0.],\n",
        "        [ 0.],\n",
        "        [ 0.],\n",
        "        [ 0.]]),\n",
        " 'b2': np.array([[ 0.],\n",
        "        [ 0.],\n",
        "        [ 0.]]),\n",
        " 'b3': np.array([[ 0.],\n",
        "        [ 0.]])}\n",
        "    grads = {'dW1': np.array([[ 0.63070583,  0.66482653,  0.18308507],\n",
        "        [ 0.        ,  0.        ,  0.        ],\n",
        "        [ 0.        ,  0.        ,  0.        ],\n",
        "        [ 0.        ,  0.        ,  0.        ]]),\n",
        " 'dW2': np.array([[ 1.62934255,  0.        ,  0.        ,  0.        ],\n",
        "        [ 0.        ,  0.        ,  0.        ,  0.        ],\n",
        "        [ 0.        ,  0.        ,  0.        ,  0.        ]]),\n",
        " 'dW3': np.array([[-1.40260776,  0.        ,  0.        ]]),\n",
        " 'da1': np.array([[ 0.70760786,  0.65063504],\n",
        "        [ 0.17268975,  0.15878569],\n",
        "        [ 0.03817582,  0.03510211]]),\n",
        " 'da2': np.array([[ 0.39561478,  0.36376198],\n",
        "        [ 0.7674101 ,  0.70562233],\n",
        "        [ 0.0224596 ,  0.02065127],\n",
        "        [-0.18165561, -0.16702967]]),\n",
        " 'da3': np.array([[ 0.44888991,  0.41274769],\n",
        "        [ 0.31261975,  0.28744927],\n",
        "        [-0.27414557, -0.25207283]]),\n",
        " 'db1': 0.75937676204411464,\n",
        " 'db2': 0.86163759922811056,\n",
        " 'db3': -0.84161956022334572}\n",
        "    \"\"\"\n",
        "    np.random.seed(2)\n",
        "    W1 = np.random.randn(3,4)\n",
        "    b1 = np.random.randn(3,1)\n",
        "    W2 = np.random.randn(1,3)\n",
        "    b2 = np.random.randn(1,1)\n",
        "    parameters = {\"W1\": W1,\n",
        "                  \"b1\": b1,\n",
        "                  \"W2\": W2,\n",
        "                  \"b2\": b2}\n",
        "    np.random.seed(3)\n",
        "    dW1 = np.random.randn(3,4)\n",
        "    db1 = np.random.randn(3,1)\n",
        "    dW2 = np.random.randn(1,3)\n",
        "    db2 = np.random.randn(1,1)\n",
        "    grads = {\"dW1\": dW1,\n",
        "             \"db1\": db1,\n",
        "             \"dW2\": dW2,\n",
        "             \"db2\": db2}\n",
        "\n",
        "    return parameters, grads\n",
        "\n",
        "\n",
        "def L_model_forward_test_case_2hidden():\n",
        "    np.random.seed(6)\n",
        "    X = np.random.randn(5,4)\n",
        "    W1 = np.random.randn(4,5)\n",
        "    b1 = np.random.randn(4,1)\n",
        "    W2 = np.random.randn(3,4)\n",
        "    b2 = np.random.randn(3,1)\n",
        "    W3 = np.random.randn(1,3)\n",
        "    b3 = np.random.randn(1,1)\n",
        "\n",
        "    parameters = {\"W1\": W1,\n",
        "                  \"b1\": b1,\n",
        "                  \"W2\": W2,\n",
        "                  \"b2\": b2,\n",
        "                  \"W3\": W3,\n",
        "                  \"b3\": b3}\n",
        "\n",
        "    return X, parameters\n",
        "\n",
        "def print_grads(grads):\n",
        "    print (\"dW1 = \"+ str(grads[\"dW1\"]))\n",
        "    print (\"db1 = \"+ str(grads[\"db1\"]))\n",
        "    print (\"dA1 = \"+ str(grads[\"dA1\"]))"
      ],
      "metadata": {
        "id": "pHCtysoip4OQ"
      },
      "execution_count": null,
      "outputs": []
    },
    {
      "cell_type": "code",
      "source": [],
      "metadata": {
        "id": "jnG1y_rvDwew"
      },
      "execution_count": null,
      "outputs": []
    },
    {
      "cell_type": "markdown",
      "source": [
        "### Inicialização de parâmetros"
      ],
      "metadata": {
        "id": "-fHrL039hjN_"
      }
    },
    {
      "cell_type": "markdown",
      "source": [
        "#### RNA de 2 camadas"
      ],
      "metadata": {
        "id": "ns_C9YOHj0O9"
      }
    },
    {
      "cell_type": "code",
      "source": [
        "def initialize_parameters(n_x, n_h, n_y):\n",
        "\n",
        "    np.random.seed(1)\n",
        "\n",
        "    W1 = np.random.randn(n_h,n_x)*0.01\n",
        "    b1 = np.zeros((n_h,1))\n",
        "    W2 = np.random.randn(n_y,n_h)*0.01\n",
        "    b2 = np.zeros((n_y,1))\n",
        "\n",
        "    assert(W1.shape == (n_h, n_x))\n",
        "    assert(b1.shape == (n_h, 1))\n",
        "    assert(W2.shape == (n_y, n_h))\n",
        "    assert(b2.shape == (n_y, 1))\n",
        "    parameters = {\"W1\": W1,\n",
        "                  \"b1\": b1,\n",
        "                  \"W2\": W2,\n",
        "                  \"b2\": b2}\n",
        "    return parameters"
      ],
      "metadata": {
        "id": "2X42Nfa7egw_"
      },
      "execution_count": null,
      "outputs": []
    },
    {
      "cell_type": "markdown",
      "source": [
        "##### Verificando a integridade do código"
      ],
      "metadata": {
        "id": "EAZQoTqniT3v"
      }
    },
    {
      "cell_type": "code",
      "source": [
        "parameters = initialize_parameters(3,2,1)\n",
        "print(\"W1 = \" + str(parameters[\"W1\"]))\n",
        "print(\"b1 = \" + str(parameters[\"b1\"]))\n",
        "print(\"W2 = \" + str(parameters[\"W2\"]))\n",
        "print(\"b2 = \" + str(parameters[\"b2\"]))"
      ],
      "metadata": {
        "colab": {
          "base_uri": "https://localhost:8080/"
        },
        "id": "McSl1Tk7iSHO",
        "outputId": "2d974e86-1df0-4303-b4b1-236a8d284315"
      },
      "execution_count": null,
      "outputs": [
        {
          "output_type": "stream",
          "name": "stdout",
          "text": [
            "W1 = [[ 0.01624345 -0.00611756 -0.00528172]\n",
            " [-0.01072969  0.00865408 -0.02301539]]\n",
            "b1 = [[0.]\n",
            " [0.]]\n",
            "W2 = [[ 0.01744812 -0.00761207]]\n",
            "b2 = [[0.]]\n"
          ]
        }
      ]
    },
    {
      "cell_type": "markdown",
      "source": [
        "#### RNA de $L$ camadas"
      ],
      "metadata": {
        "id": "bufBFy7fj4DO"
      }
    },
    {
      "cell_type": "code",
      "source": [
        "def initialize_parameters_deep(layer_dims):\n",
        "\n",
        "    np.random.seed(3)\n",
        "    parameters = {}\n",
        "    L = len(layer_dims) # number of layers in the network\n",
        "    for l in range(1, L):\n",
        "\n",
        "        parameters['W' + str(l)] = np.random.randn(layer_dims[l], layer_dims[l-1]) * 0.01\n",
        "        parameters['b' + str(l)] = np.zeros((layer_dims[l], 1))\n",
        "\n",
        "        assert(parameters['W' + str(l)].shape == (layer_dims[l], layer_dims[l-1]))\n",
        "        assert(parameters['b' + str(l)].shape == (layer_dims[l], 1))\n",
        "    return parameters"
      ],
      "metadata": {
        "id": "3AyZQF8GifoN"
      },
      "execution_count": null,
      "outputs": []
    },
    {
      "cell_type": "markdown",
      "source": [
        "##### Verificando a integridade do código"
      ],
      "metadata": {
        "id": "x-CppkUBky5x"
      }
    },
    {
      "cell_type": "code",
      "source": [
        "parameters = initialize_parameters_deep([5,4,3])\n",
        "print(\"W1 = \" + str(parameters[\"W1\"]))\n",
        "print(\"b1 = \" + str(parameters[\"b1\"]))\n",
        "print(\"W2 = \" + str(parameters[\"W2\"]))\n",
        "print(\"b2 = \" + str(parameters[\"b2\"]))"
      ],
      "metadata": {
        "colab": {
          "base_uri": "https://localhost:8080/"
        },
        "id": "1yp71IRVj_qM",
        "outputId": "2a850b6e-dac4-4755-be73-b2ce095e1608"
      },
      "execution_count": null,
      "outputs": [
        {
          "output_type": "stream",
          "name": "stdout",
          "text": [
            "W1 = [[ 0.01788628  0.0043651   0.00096497 -0.01863493 -0.00277388]\n",
            " [-0.00354759 -0.00082741 -0.00627001 -0.00043818 -0.00477218]\n",
            " [-0.01313865  0.00884622  0.00881318  0.01709573  0.00050034]\n",
            " [-0.00404677 -0.0054536  -0.01546477  0.00982367 -0.01101068]]\n",
            "b1 = [[0.]\n",
            " [0.]\n",
            " [0.]\n",
            " [0.]]\n",
            "W2 = [[-0.01185047 -0.0020565   0.01486148  0.00236716]\n",
            " [-0.01023785 -0.00712993  0.00625245 -0.00160513]\n",
            " [-0.00768836 -0.00230031  0.00745056  0.01976111]]\n",
            "b2 = [[0.]\n",
            " [0.]\n",
            " [0.]]\n"
          ]
        }
      ]
    },
    {
      "cell_type": "markdown",
      "source": [
        "### Módulo de propagação *forward*"
      ],
      "metadata": {
        "id": "TCyKhzDlBYJq"
      }
    },
    {
      "cell_type": "markdown",
      "source": [
        "#### Propagação *forward*: linear"
      ],
      "metadata": {
        "id": "wmGPRtjGCsCa"
      }
    },
    {
      "cell_type": "code",
      "source": [
        "def linear_forward(A, W, b):\n",
        "\n",
        "    Z = np.dot(W,A)+b\n",
        "\n",
        "    assert(Z.shape == (W.shape[0], A.shape[1]))\n",
        "    cache = (A, W, b)\n",
        "    return Z, cache"
      ],
      "metadata": {
        "id": "2zpAZQ6kkttM"
      },
      "execution_count": null,
      "outputs": []
    },
    {
      "cell_type": "markdown",
      "source": [
        "##### Verificando a integridade do código"
      ],
      "metadata": {
        "id": "TpghYn_CCa-t"
      }
    },
    {
      "cell_type": "code",
      "source": [
        "A, W, b = linear_forward_test_case()\n",
        "Z, linear_cache = linear_forward(A, W, b)\n",
        "print(\"Z = \" + str(Z))"
      ],
      "metadata": {
        "colab": {
          "base_uri": "https://localhost:8080/"
        },
        "id": "L01h3yc_CDQZ",
        "outputId": "8c673ccb-1cb0-462a-9199-c28f2d149b0a"
      },
      "execution_count": null,
      "outputs": [
        {
          "output_type": "stream",
          "name": "stdout",
          "text": [
            "Z = [[ 3.26295337 -1.23429987]]\n"
          ]
        }
      ]
    },
    {
      "cell_type": "markdown",
      "source": [
        "#### Propagação *forward*: ativação"
      ],
      "metadata": {
        "id": "UvlcjVukDA0e"
      }
    },
    {
      "cell_type": "code",
      "source": [
        "def linear_activation_forward(A_prev, W, b, activation):\n",
        "\n",
        "    if activation == \"sigmoid\":\n",
        "\n",
        "        Z, linear_cache = linear_forward(A_prev, W, b)\n",
        "        A, activation_cache = sigmoid(Z)\n",
        "\n",
        "    elif activation == \"relu\":\n",
        "\n",
        "        Z, linear_cache = linear_forward(A_prev, W, b)\n",
        "        A, activation_cache = relu(Z)\n",
        "\n",
        "\n",
        "    assert (A.shape == (W.shape[0], A_prev.shape[1]))\n",
        "    cache = (linear_cache, activation_cache)\n",
        "\n",
        "    return A, cache"
      ],
      "metadata": {
        "id": "6ZDQpQMeCZtY"
      },
      "execution_count": null,
      "outputs": []
    },
    {
      "cell_type": "code",
      "source": [
        "A_prev, W, b = linear_activation_forward_test_case()\n",
        "A, linear_activation_cache = linear_activation_forward(A_prev, W, b, activation\n",
        "= \"sigmoid\")\n",
        "print(\"With sigmoid: A = \" + str(A))\n",
        "A, linear_activation_cache = linear_activation_forward(A_prev, W, b, activation\n",
        "= \"relu\")\n",
        "print(\"With ReLU: A = \" + str(A))"
      ],
      "metadata": {
        "colab": {
          "base_uri": "https://localhost:8080/"
        },
        "id": "idQFCETQC_KQ",
        "outputId": "80da7d50-7d0a-4a4d-8f6f-e03b6e615150"
      },
      "execution_count": null,
      "outputs": [
        {
          "output_type": "stream",
          "name": "stdout",
          "text": [
            "With sigmoid: A = [[0.96890023 0.11013289]]\n",
            "With ReLU: A = [[3.43896131 0.        ]]\n"
          ]
        }
      ]
    },
    {
      "cell_type": "markdown",
      "source": [
        "### Modelo com $L$ camadas"
      ],
      "metadata": {
        "id": "5S6yqPwwEXd0"
      }
    },
    {
      "cell_type": "code",
      "source": [
        "def L_model_forward(X, parameters):\n",
        "\n",
        "    caches = []\n",
        "    A = X\n",
        "    L = len(parameters) // 2    # number of layers in the neural network\n",
        "\n",
        "    for l in range(1, L):\n",
        "        A_prev = A\n",
        "        A, cache = linear_activation_forward(A_prev, parameters['W' + str(l)], parameters['b' + str(l)], \"relu\")\n",
        "        caches.append(cache)\n",
        "\n",
        "    AL, cache = linear_activation_forward(A, parameters['W' + str(L)], parameters['b' + str(L)], \"sigmoid\") #AL last post-activation value\n",
        "    caches.append(cache)\n",
        "\n",
        "    assert(AL.shape == (1,X.shape[1]))\n",
        "\n",
        "    return AL, caches"
      ],
      "metadata": {
        "id": "j-i26hPZD7Yo"
      },
      "execution_count": null,
      "outputs": []
    },
    {
      "cell_type": "markdown",
      "source": [
        "##### Verificando a integridade do código"
      ],
      "metadata": {
        "id": "49WZIgMjGGo4"
      }
    },
    {
      "cell_type": "code",
      "source": [
        "X, parameters = L_model_forward_test_case_2hidden()\n",
        "AL, caches = L_model_forward(X, parameters)\n",
        "print(\"AL = \" + str(AL))\n",
        "print(\"Length of caches list = \" + str(len(caches)))"
      ],
      "metadata": {
        "colab": {
          "base_uri": "https://localhost:8080/"
        },
        "id": "mZIl0pMQGDGA",
        "outputId": "746d66a4-c6d8-4c07-e4a1-479b98a9972c"
      },
      "execution_count": null,
      "outputs": [
        {
          "output_type": "stream",
          "name": "stdout",
          "text": [
            "AL = [[0.03921668 0.70498921 0.19734387 0.04728177]]\n",
            "Length of caches list = 3\n"
          ]
        }
      ]
    },
    {
      "cell_type": "markdown",
      "source": [
        "### Função custo"
      ],
      "metadata": {
        "id": "g05lUPy6G0_4"
      }
    },
    {
      "cell_type": "code",
      "source": [
        "def compute_cost(AL, Y):\n",
        "\n",
        "    m = Y.shape[1]\n",
        "\n",
        "    cost = -(1/m)*np.sum(np.multiply(Y,np.log(AL))+np.multiply((1-Y),(np.log(1-AL))))\n",
        "\n",
        "    cost = np.squeeze(cost) # To make sure your cost's shape is what we expect (e.g. this turns [[17]] into 17).\n",
        "\n",
        "    assert(cost.shape == ())\n",
        "\n",
        "    return cost"
      ],
      "metadata": {
        "id": "iDh8ghd4GKqX"
      },
      "execution_count": null,
      "outputs": []
    },
    {
      "cell_type": "markdown",
      "source": [
        "##### Verificando a integridade do código"
      ],
      "metadata": {
        "id": "pCvCjBRQHUUI"
      }
    },
    {
      "cell_type": "code",
      "source": [
        "Y, AL = compute_cost_test_case()\n",
        "print(\"cost = \" + str(compute_cost(AL, Y)))"
      ],
      "metadata": {
        "colab": {
          "base_uri": "https://localhost:8080/"
        },
        "id": "q2mYpGeAHPHA",
        "outputId": "e6e3f6be-010f-4196-cba6-35a64f677b1d"
      },
      "execution_count": null,
      "outputs": [
        {
          "output_type": "stream",
          "name": "stdout",
          "text": [
            "cost = 0.2797765635793422\n"
          ]
        }
      ]
    },
    {
      "cell_type": "markdown",
      "source": [
        "### Módulo de propagação *backward*"
      ],
      "metadata": {
        "id": "WXOtuAOgHavO"
      }
    },
    {
      "cell_type": "markdown",
      "source": [
        "#### Propagação *backward*: linear"
      ],
      "metadata": {
        "id": "JiEUf8BcHwIo"
      }
    },
    {
      "cell_type": "code",
      "source": [
        "def linear_backward(dZ, cache):\n",
        "\n",
        "    A_prev, W, b = cache\n",
        "    m = A_prev.shape[1]\n",
        "\n",
        "    dW = 1/m*np.dot(dZ,A_prev.T)\n",
        "    db = 1/m*np.sum(dZ,axis=1,keepdims=True)\n",
        "    dA_prev = np.dot(W.T,dZ)\n",
        "\n",
        "    assert (dA_prev.shape == A_prev.shape)\n",
        "    assert (dW.shape == W.shape)\n",
        "    assert (db.shape == b.shape)\n",
        "\n",
        "    return dA_prev, dW, db"
      ],
      "metadata": {
        "id": "jAsU19rVHS3_"
      },
      "execution_count": null,
      "outputs": []
    },
    {
      "cell_type": "markdown",
      "source": [
        "##### Testando a integridade do código"
      ],
      "metadata": {
        "id": "K2SV0Ga0IWC6"
      }
    },
    {
      "cell_type": "code",
      "source": [
        "dZ, linear_cache = linear_backward_test_case()\n",
        "dA_prev, dW, db = linear_backward(dZ, linear_cache)\n",
        "print (\"dA_prev = \"+ str(dA_prev))\n",
        "print (\"dW = \" + str(dW))\n",
        "print (\"db = \" + str(db))"
      ],
      "metadata": {
        "colab": {
          "base_uri": "https://localhost:8080/"
        },
        "id": "c1l4V4iTIHWP",
        "outputId": "ca445957-25a6-4b3d-b2a7-bd34bd42ed42"
      },
      "execution_count": null,
      "outputs": [
        {
          "output_type": "stream",
          "name": "stdout",
          "text": [
            "dA_prev = [[-1.15171336  0.06718465 -0.3204696   2.09812712]\n",
            " [ 0.60345879 -3.72508701  5.81700741 -3.84326836]\n",
            " [-0.4319552  -1.30987417  1.72354705  0.05070578]\n",
            " [-0.38981415  0.60811244 -1.25938424  1.47191593]\n",
            " [-2.52214926  2.67882552 -0.67947465  1.48119548]]\n",
            "dW = [[ 0.07313866 -0.0976715  -0.87585828  0.73763362  0.00785716]\n",
            " [ 0.85508818  0.37530413 -0.59912655  0.71278189 -0.58931808]\n",
            " [ 0.97913304 -0.24376494 -0.08839671  0.55151192 -0.10290907]]\n",
            "db = [[-0.14713786]\n",
            " [-0.11313155]\n",
            " [-0.13209101]]\n"
          ]
        }
      ]
    },
    {
      "cell_type": "markdown",
      "source": [
        "#### Propagação *backward*: linear + ativação"
      ],
      "metadata": {
        "id": "0Nend7JFIcDW"
      }
    },
    {
      "cell_type": "code",
      "source": [
        "def linear_activation_backward(dA, cache, activation):\n",
        "\n",
        "    linear_cache, activation_cache = cache\n",
        "    if activation == \"relu\":\n",
        "\n",
        "        dZ = relu_backward(dA, activation_cache)\n",
        "        dA_prev, dW, db = linear_backward(dZ, linear_cache)\n",
        "\n",
        "    elif activation == \"sigmoid\":\n",
        "\n",
        "        dZ = sigmoid_backward(dA, activation_cache)\n",
        "        dA_prev, dW, db = linear_backward(dZ, linear_cache)\n",
        "\n",
        "    return dA_prev, dW, db"
      ],
      "metadata": {
        "id": "zzx49SkeITsf"
      },
      "execution_count": null,
      "outputs": []
    },
    {
      "cell_type": "code",
      "source": [
        "dAL, linear_activation_cache = linear_activation_backward_test_case()\n",
        "dA_prev, dW, db = linear_activation_backward(dAL, linear_activation_cache, activation = \"sigmoid\")\n",
        "print (\"sigmoid:\")\n",
        "print (\"dA_prev = \"+ str(dA_prev))\n",
        "print (\"dW = \" + str(dW))\n",
        "print (\"db = \" + str(db) + \"\\n\")\n",
        "dA_prev, dW, db = linear_activation_backward(dAL, linear_activation_cache, activation = \"relu\")\n",
        "print (\"relu:\")\n",
        "print (\"dA_prev = \"+ str(dA_prev))\n",
        "print (\"dW = \" + str(dW))\n",
        "print (\"db = \" + str(db))"
      ],
      "metadata": {
        "colab": {
          "base_uri": "https://localhost:8080/"
        },
        "id": "YS-T9gS6JL54",
        "outputId": "a311e88a-b890-44a0-d02c-6dd4e2e83231"
      },
      "execution_count": null,
      "outputs": [
        {
          "output_type": "stream",
          "name": "stdout",
          "text": [
            "sigmoid:\n",
            "dA_prev = [[ 0.11017994  0.01105339]\n",
            " [ 0.09466817  0.00949723]\n",
            " [-0.05743092 -0.00576154]]\n",
            "dW = [[ 0.10266786  0.09778551 -0.01968084]]\n",
            "db = [[-0.05729622]]\n",
            "\n",
            "relu:\n",
            "dA_prev = [[ 0.44090989  0.        ]\n",
            " [ 0.37883606  0.        ]\n",
            " [-0.2298228   0.        ]]\n",
            "dW = [[ 0.44513824  0.37371418 -0.10478989]]\n",
            "db = [[-0.20837892]]\n"
          ]
        }
      ]
    },
    {
      "cell_type": "markdown",
      "source": [
        "### Modelo *backward* com $L$ camadas"
      ],
      "metadata": {
        "id": "YY5zd6mzJkKQ"
      }
    },
    {
      "cell_type": "code",
      "source": [
        "def L_model_backward(AL, Y, caches):\n",
        "\n",
        "    grads = {}\n",
        "    L = len(caches) # the number of layers\n",
        "    m = AL.shape[1]\n",
        "    Y = Y.reshape(AL.shape) # after this line, Y is the same shape as AL\n",
        "\n",
        "    dAL = - (np.divide(Y, AL) - np.divide(1 - Y, 1 - AL))\n",
        "\n",
        "    current_cache = caches[L-1]\n",
        "    grads[\"dA\" + str(L-1)], grads[\"dW\" + str(L)], grads[\"db\" + str(L)] = linear_activation_backward(dAL, current_cache, \"sigmoid\")\n",
        "\n",
        "# Loop from l=L-2 to l=0\n",
        "    for l in reversed(range(L-1)):\n",
        "        current_cache = caches[l]\n",
        "        dA_prev_temp, dW_temp, db_temp = linear_activation_backward(grads[\"dA\"+str(l+1)], current_cache, \"relu\")\n",
        "        grads[\"dA\" + str(l)] = dA_prev_temp\n",
        "        grads[\"dW\" + str(l + 1)] = dW_temp\n",
        "        grads[\"db\" + str(l + 1)] = db_temp\n",
        "\n",
        "    return grads"
      ],
      "metadata": {
        "id": "25VFAkVkJS3H"
      },
      "execution_count": null,
      "outputs": []
    },
    {
      "cell_type": "code",
      "source": [
        "AL, Y_assess, caches = L_model_backward_test_case()\n",
        "grads = L_model_backward(AL, Y_assess, caches)\n",
        "print_grads(grads)"
      ],
      "metadata": {
        "colab": {
          "base_uri": "https://localhost:8080/"
        },
        "id": "Jg3UTWg3Kadw",
        "outputId": "bea49a95-d0b3-4c13-e0a9-79d572125c3a"
      },
      "execution_count": null,
      "outputs": [
        {
          "output_type": "stream",
          "name": "stdout",
          "text": [
            "dW1 = [[0.41010002 0.07807203 0.13798444 0.10502167]\n",
            " [0.         0.         0.         0.        ]\n",
            " [0.05283652 0.01005865 0.01777766 0.0135308 ]]\n",
            "db1 = [[-0.22007063]\n",
            " [ 0.        ]\n",
            " [-0.02835349]]\n",
            "dA1 = [[ 0.12913162 -0.44014127]\n",
            " [-0.14175655  0.48317296]\n",
            " [ 0.01663708 -0.05670698]]\n"
          ]
        }
      ]
    },
    {
      "cell_type": "markdown",
      "source": [
        "### Atualizando os parâmetros"
      ],
      "metadata": {
        "id": "-jDRwlJJKpKY"
      }
    },
    {
      "cell_type": "code",
      "source": [
        "def update_parameters(parameters, grads, learning_rate):\n",
        "\n",
        "    L = len(parameters) // 2 # number of layers in the neural network\n",
        "\n",
        "    for l in range(L):\n",
        "        parameters[\"W\" + str(l+1)] = parameters[\"W\" + str(l+1)]-learning_rate*grads[\"dW\" + str(l + 1)]\n",
        "        parameters[\"b\" + str(l+1)] = parameters[\"b\" + str(l+1)]-learning_rate*grads[\"db\" + str(l + 1)]\n",
        "\n",
        "    return parameters"
      ],
      "metadata": {
        "id": "6WC2MrvAKfNP"
      },
      "execution_count": null,
      "outputs": []
    },
    {
      "cell_type": "markdown",
      "source": [
        "##### Verificando a integridade do código"
      ],
      "metadata": {
        "id": "LCwIMOU-LFtg"
      }
    },
    {
      "cell_type": "code",
      "source": [
        "parameters, grads = update_parameters_test_case()\n",
        "parameters = update_parameters(parameters, grads, 0.1)\n",
        "print (\"W1 = \"+ str(parameters[\"W1\"]))\n",
        "print (\"b1 = \"+ str(parameters[\"b1\"]))\n",
        "print (\"W2 = \"+ str(parameters[\"W2\"]))\n",
        "print (\"b2 = \"+ str(parameters[\"b2\"]))"
      ],
      "metadata": {
        "colab": {
          "base_uri": "https://localhost:8080/"
        },
        "id": "2LXExzBeK_Pn",
        "outputId": "a6f66239-cdd7-4f09-b3de-a6a726b55760"
      },
      "execution_count": null,
      "outputs": [
        {
          "output_type": "stream",
          "name": "stdout",
          "text": [
            "W1 = [[-0.59562069 -0.09991781 -2.14584584  1.82662008]\n",
            " [-1.76569676 -0.80627147  0.51115557 -1.18258802]\n",
            " [-1.0535704  -0.86128581  0.68284052  2.20374577]]\n",
            "b1 = [[-0.04659241]\n",
            " [-1.28888275]\n",
            " [ 0.53405496]]\n",
            "W2 = [[-0.55569196  0.0354055   1.32964895]]\n",
            "b2 = [[-0.84610769]]\n"
          ]
        }
      ]
    },
    {
      "cell_type": "markdown",
      "source": [
        "# Realizando previsões com o modelo treinado"
      ],
      "metadata": {
        "id": "meUwIEOHtJN4"
      }
    },
    {
      "cell_type": "code",
      "source": [
        "def predict_model(model, X_test):\n",
        "    predictions = model.predict(X_test)\n",
        "    return predictions\n"
      ],
      "metadata": {
        "id": "oVIiL_bULJlu"
      },
      "execution_count": null,
      "outputs": []
    }
  ]
}